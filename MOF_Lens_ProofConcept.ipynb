{
  "cells": [
    {
      "cell_type": "markdown",
      "metadata": {
        "id": "view-in-github",
        "colab_type": "text"
      },
      "source": [
        "<a href=\"https://colab.research.google.com/github/MehrdadJalali-AI/MOF_LENS/blob/main/MOF_Lens_ProofConcept.ipynb\" target=\"_parent\"><img src=\"https://colab.research.google.com/assets/colab-badge.svg\" alt=\"Open In Colab\"/></a>"
      ]
    },
    {
      "cell_type": "markdown",
      "id": "6a7f777e",
      "metadata": {
        "id": "6a7f777e"
      },
      "source": [
        "# MOF Optimization with Lotus Effect Algorithm\n",
        "This notebook loads a MOF dataset, processes it, and applies a custom optimization algorithm to find the best MOFs for doxorubicin delivery."
      ]
    },
    {
      "cell_type": "markdown",
      "source": [
        "\n",
        "# 🧪 Proof of Concept: MOF-LENS — Optimizing MOFs for Doxorubicin Delivery\n",
        "\n",
        "## 📘 Introduction\n",
        "\n",
        "The development of targeted drug delivery systems using Metal-Organic Frameworks (MOFs) has gained increasing attention in computational materials science. MOFs offer tunable pore sizes, surface area, and functional groups, making them ideal candidates for hosting drug molecules such as doxorubicin (DOX).\n",
        "\n",
        "This notebook demonstrates an end-to-end pipeline, **MOF-LENS** (MOF-Learning and Evolution for Novel Screening), that integrates domain-specific filtering, cheminformatics, and a novel optimization algorithm inspired by the *Lotus Effect* to discover optimal MOFs for doxorubicin encapsulation and release.\n",
        "\n",
        "---\n",
        "\n",
        "## 🎯 Problem Statement\n",
        "\n",
        "The goal is to select MOFs that are:\n",
        "\n",
        "- ✅ Structurally compatible with DOX (porosity, void fraction, coordination)\n",
        "- ✅ Chemically similar to DOX (based on SMILES fingerprinting)\n",
        "- ✅ Safe and stable (non-toxic metals and pH resilience)\n",
        "- ✅ Equipped with beneficial functional groups like **–NH₂**\n",
        "\n",
        "Traditional rule-based filtering or random search is not scalable. A biologically inspired, intelligent method is needed to balance **exploration** and **exploitation** of the MOF space.\n",
        "\n",
        "---\n",
        "\n",
        "## 🔍 Data Preprocessing\n",
        "\n",
        "- Filters out MOFs containing toxic metals (e.g., Pb, Cd, Hg)\n",
        "- Validates and sanitizes `linker_smile` entries using RDKit\n",
        "- Filters entries based on **pore limiting diameter (PLD)** in the 10–20 Å range\n",
        "- Computes:\n",
        "  - Normalized physicochemical features\n",
        "  - Morgan fingerprints (radius=2, 256-bit)\n",
        "  - Binary indicator for **–NH₂** presence\n",
        "\n",
        "---\n",
        "\n",
        "## 🧬 Chemical Similarity\n",
        "\n",
        "Each MOF linker and DOX are encoded using Morgan fingerprints. A **hybrid distance metric** combines:\n",
        "\n",
        "- 🧱 Euclidean distance in normalized feature space  \n",
        "- 🔬 Tanimoto distance between molecular fingerprints\n",
        "\n",
        "This allows identifying candidates that are structurally and chemically aligned with DOX.\n",
        "\n",
        "---\n",
        "\n",
        "## 🌿 Lotus Effect Algorithm (LEA)\n",
        "\n",
        "Inspired by the **natural self-cleaning and selective attraction** properties of lotus leaves.\n",
        "\n",
        "### Key Concepts:\n",
        "\n",
        "- Uses **Lévy flight-based mutation** to explore MOF feature space\n",
        "- Maps each candidate back to its nearest real MOF (using k-NN)\n",
        "- Fitness is a weighted function of:\n",
        "  - Physicochemical structure\n",
        "  - Tanimoto similarity to DOX\n",
        "  - pH stability (based on metal type)\n",
        "  - Toxicity penalty\n",
        "  - NH₂ presence bonus\n",
        "- Avoids duplicate MOFs using a refcode tracker\n",
        "\n",
        "---\n",
        "\n",
        "## 🏆 Output\n",
        "\n",
        "The algorithm returns the **top 5 MOFs** for potential DOX delivery with:\n",
        "\n",
        "- Refcode\n",
        "- Fitness Score\n",
        "- Chemical Similarity to DOX\n",
        "\n",
        "These candidates represent an optimal balance of structure, chemistry, and biomedical relevance.\n",
        "\n",
        "---\n",
        "\n",
        "## ✅ Conclusion\n",
        "\n",
        "This proof of concept demonstrates the effectiveness of:\n",
        "\n",
        "- RDKit-driven preprocessing and chemical reasoning\n",
        "- A lotus-inspired optimizer for exploring high-dimensional MOF data\n",
        "- Hybrid filtering of physicochemical and fingerprint-based similarity\n",
        "\n",
        "### 🔭 Next Steps:\n",
        "\n",
        "- Include **experimental binding affinities**\n",
        "- Apply to other drug molecules (e.g., paclitaxel)\n",
        "- Extend with **generative models** (e.g., GANs, VAEs)\n",
        "- Perform **multi-objective optimization**\n",
        "\n",
        "MOF-LENS paves the way for smart, interpretable, and scalable MOF design in drug delivery and materials informatics.\n"
      ],
      "metadata": {
        "id": "5eqSBSlJBzwx"
      },
      "id": "5eqSBSlJBzwx"
    },
    {
      "cell_type": "code",
      "execution_count": 2,
      "id": "a62ca9fe",
      "metadata": {
        "colab": {
          "base_uri": "https://localhost:8080/"
        },
        "id": "a62ca9fe",
        "outputId": "0f129d7e-5555-42cc-fcfc-9834fe30ca89"
      },
      "outputs": [
        {
          "output_type": "stream",
          "name": "stdout",
          "text": [
            "\u001b[2K   \u001b[90m━━━━━━━━━━━━━━━━━━━━━━━━━━━━━━━━━━━━━━━━\u001b[0m \u001b[32m35.2/35.2 MB\u001b[0m \u001b[31m61.9 MB/s\u001b[0m eta \u001b[36m0:00:00\u001b[0m\n",
            "\u001b[?25h"
          ]
        }
      ],
      "source": [
        "# Install RDKit (only needed if not already available)\n",
        "!pip install rdkit -q\n"
      ]
    },
    {
      "cell_type": "code",
      "execution_count": 3,
      "id": "a0cad868",
      "metadata": {
        "id": "a0cad868"
      },
      "outputs": [],
      "source": [
        "import numpy as np\n",
        "import pandas as pd\n",
        "from rdkit import Chem\n",
        "from rdkit.Chem import rdFingerprintGenerator\n",
        "from sklearn.preprocessing import MinMaxScaler\n",
        "from sklearn.neighbors import NearestNeighbors\n",
        "from scipy.special import gamma\n",
        "import random\n"
      ]
    },
    {
      "cell_type": "code",
      "execution_count": 4,
      "id": "5373063d",
      "metadata": {
        "id": "5373063d"
      },
      "outputs": [],
      "source": [
        "def preprocess_data(df, target_pld_range=(10, 20)):\n",
        "    column_mapping = {\n",
        "        'asa (A^2)': 'asa',\n",
        "        'pld (A)': 'pld',\n",
        "        'void_fraction': 'void_fraction',\n",
        "        'max_metal_coordination_n': 'max_metal_coordination_n',\n",
        "        'n_sbu_point_of_extension': 'n_sbu_point_of_extension',\n",
        "        'n_channel': 'n_channel',\n",
        "        'metals': 'metals',\n",
        "        'linker_smile': 'linker_smile',\n",
        "        'Refcode': 'Refcode'\n",
        "    }\n",
        "    df = df.rename(columns=column_mapping)\n",
        "    df = df[~df['metals'].isin(['Pb', 'Cd', 'Cr', 'Ni', 'Hg'])]\n",
        "\n",
        "    if len(df) > 10000:\n",
        "        df = df.sample(n=10000, random_state=42)\n",
        "\n",
        "    def sanitize(smiles):\n",
        "        if not isinstance(smiles, str):\n",
        "            return None\n",
        "        try:\n",
        "            mol = Chem.MolFromSmiles(smiles, sanitize=False)\n",
        "            if mol:\n",
        "                Chem.SanitizeMol(mol, catchErrors=True)\n",
        "                return Chem.MolToSmiles(mol)\n",
        "        except:\n",
        "            return None\n",
        "        return smiles\n",
        "\n",
        "    df['linker_smile'] = df['linker_smile'].apply(sanitize)\n",
        "    df = df[df['linker_smile'].notna()]\n",
        "    df = df[(df['pld'] >= target_pld_range[0]) & (df['pld'] <= target_pld_range[1])]\n",
        "\n",
        "    def nh2_check(s):\n",
        "        try:\n",
        "            mol = Chem.MolFromSmiles(s)\n",
        "            return int(mol.HasSubstructMatch(Chem.MolFromSmarts('[NH2]'))) if mol else 0\n",
        "        except:\n",
        "            return 0\n",
        "\n",
        "    df['NH2_Present'] = df['linker_smile'].apply(nh2_check)\n",
        "\n",
        "    scaler = MinMaxScaler()\n",
        "    num_cols = ['void_fraction', 'asa', 'pld', 'max_metal_coordination_n', 'n_sbu_point_of_extension', 'n_channel']\n",
        "    df[num_cols] = scaler.fit_transform(df[num_cols].fillna(0))\n",
        "\n",
        "    morgan_gen = rdFingerprintGenerator.GetMorganGenerator(radius=2, fpSize=256)\n",
        "    def fingerprint(smiles):\n",
        "        try:\n",
        "            mol = Chem.MolFromSmiles(smiles)\n",
        "            return np.array(morgan_gen.GetFingerprint(mol)) if mol else np.zeros(256)\n",
        "        except:\n",
        "            return np.zeros(256)\n",
        "\n",
        "    df['Fingerprint'] = df['linker_smile'].apply(fingerprint)\n",
        "    return df, scaler\n"
      ]
    },
    {
      "cell_type": "code",
      "execution_count": 5,
      "id": "39a49a97",
      "metadata": {
        "id": "39a49a97"
      },
      "outputs": [],
      "source": [
        "def compute_fitness(features, fingerprint, dox_fp, metal, nh2):\n",
        "    vf, asa, pld, coord, sbu, n_channel = features\n",
        "    struct_score = 0.20 * vf + 0.15 * asa + 0.30 * pld + 0.10 * coord + 0.05 * sbu + 0.05 * n_channel\n",
        "\n",
        "    fp1 = fingerprint.astype(bool)\n",
        "    fp2 = dox_fp.astype(bool)\n",
        "    tanimoto = np.sum(fp1 & fp2) / np.sum(fp1 | fp2) if np.sum(fp1 | fp2) else 0\n",
        "\n",
        "    stability = {'Zr': 0.2, 'Zn': 0.7, 'Fe': 0.3, 'Co': 0.4, 'In': 0.5, 'Cu': 0.6, 'Gd': 0.3, 'Al': 0.2, 'Mn': 0.4}\n",
        "    toxicity = {'Zr': 0.1, 'Zn': 0.2, 'Fe': 0.15, 'Co': 0.25, 'In': 0.1, 'Cu': 0.2, 'Gd': 0.15, 'Al': 0.1, 'Mn': 0.15}\n",
        "    pH_stability = 1 - stability.get(metal, 0.5)\n",
        "    tox = toxicity.get(metal, 0.2)\n",
        "\n",
        "    return 0.6 * struct_score + 0.20 * tanimoto + 0.15 * pH_stability + 0.05 * nh2 - 0.05 * tox\n",
        "\n",
        "def levy_flight(n, beta=1.5):\n",
        "    sigma = (gamma(1 + beta) * np.sin(np.pi * beta / 2) /\n",
        "             (gamma((1 + beta) / 2) * beta * 2 ** ((beta - 1) / 2))) ** (1 / beta)\n",
        "    u = np.random.normal(0, sigma, n)\n",
        "    v = np.random.normal(0, 1, n)\n",
        "    return u / np.abs(v) ** (1 / beta)\n",
        "\n",
        "def lotus_effect_algorithm(df, dox_fp, pop_size=20, max_iter=50):\n",
        "    num_cols = ['void_fraction', 'asa', 'pld', 'max_metal_coordination_n', 'n_sbu_point_of_extension', 'n_channel']\n",
        "    X = df[num_cols].values\n",
        "    fingerprints = df['Fingerprint'].values\n",
        "    metals = df['metals'].values\n",
        "    nh2_flags = df['NH2_Present'].values\n",
        "\n",
        "    knn = NearestNeighbors(n_neighbors=1).fit(X)\n",
        "    population = np.random.uniform(0, 1, (pop_size, len(num_cols)))\n",
        "\n",
        "    best_solutions = []\n",
        "    best_fitness = -np.inf\n",
        "    seen_refcodes = set()\n",
        "\n",
        "    for _ in range(max_iter):\n",
        "        for i in range(pop_size):\n",
        "            step = 0.5 * levy_flight(len(num_cols))\n",
        "            population[i] = np.clip(population[i] + step, 0, 1)\n",
        "\n",
        "            idx = knn.kneighbors([population[i]])[1][0][0]\n",
        "            features = X[idx]\n",
        "            fp = fingerprints[idx]\n",
        "            metal = metals[idx]\n",
        "            nh2 = nh2_flags[idx]\n",
        "            refcode = df.iloc[idx]['Refcode']\n",
        "\n",
        "            fitness = compute_fitness(features, fp, dox_fp, metal, nh2)\n",
        "            if refcode in seen_refcodes:\n",
        "                fitness *= 0.5\n",
        "\n",
        "            if len(best_solutions) < 5:\n",
        "                best_solutions.append((refcode, fitness, fp))\n",
        "                seen_refcodes.add(refcode)\n",
        "            elif fitness > min(s[1] for s in best_solutions):\n",
        "                worst = min(range(len(best_solutions)), key=lambda i: best_solutions[i][1])\n",
        "                if refcode not in [s[0] for s in best_solutions]:\n",
        "                    best_solutions[worst] = (refcode, fitness, fp)\n",
        "                    seen_refcodes.add(refcode)\n",
        "\n",
        "            if fitness > best_fitness:\n",
        "                best_fitness = fitness\n",
        "\n",
        "    best_solutions = sorted(best_solutions, key=lambda x: x[1], reverse=True)[:5]\n",
        "    return pd.DataFrame({\n",
        "        'Refcode': [s[0] for s in best_solutions],\n",
        "        'Fitness_Score': [s[1] for s in best_solutions],\n",
        "        'Chemical_Similarity': [\n",
        "            np.sum(s[2].astype(bool) & dox_fp.astype(bool)) / np.sum(s[2].astype(bool) | dox_fp.astype(bool))\n",
        "            for s in best_solutions\n",
        "        ]\n",
        "    })\n"
      ]
    },
    {
      "cell_type": "code",
      "execution_count": 8,
      "id": "9d4f2030",
      "metadata": {
        "colab": {
          "base_uri": "https://localhost:8080/"
        },
        "id": "9d4f2030",
        "outputId": "4f7ecb66-aaab-412c-f2da-8dbd3a94fceb"
      },
      "outputs": [
        {
          "output_type": "stream",
          "name": "stdout",
          "text": [
            "Top MOFs for DOX delivery:\n",
            "  Refcode  Fitness_Score  Chemical_Similarity\n",
            "0  UNUNEY       0.453511             0.093750\n",
            "1  XAHPUT       0.421424             0.162162\n",
            "2  UFORIT       0.401281             0.096774\n",
            "3  XOXGUP       0.385674             0.051724\n",
            "4  ATICUD       0.385597             0.050000\n"
          ]
        }
      ],
      "source": [
        "# Upload CSV\n",
        "from rdkit import RDLogger\n",
        "RDLogger.DisableLog('rdApp.*')\n",
        "\n",
        "\n",
        "# Run main pipeline\n",
        "df = pd.read_csv('MOF.csv')\n",
        "df, scaler = preprocess_data(df)\n",
        "\n",
        "# Doxorubicin SMILES\n",
        "dox_smiles = 'CC1=C(C(C2=C(C1=O)C(=O)C3=C(C=CC(=C3C2=O)O)O)O)C4CC(C(C(O4)CO)O)NC(=O)CO'\n",
        "dox_mol = Chem.MolFromSmiles(dox_smiles)\n",
        "morgan_gen = rdFingerprintGenerator.GetMorganGenerator(radius=2, fpSize=256)\n",
        "dox_fp = np.array(morgan_gen.GetFingerprint(dox_mol))\n",
        "\n",
        "# Run optimizer\n",
        "results = lotus_effect_algorithm(df, dox_fp)\n",
        "print(\"Top MOFs for DOX delivery:\")\n",
        "print(results)\n"
      ]
    }
  ],
  "metadata": {
    "colab": {
      "provenance": [],
      "include_colab_link": true
    },
    "language_info": {
      "name": "python"
    },
    "kernelspec": {
      "name": "python3",
      "display_name": "Python 3"
    }
  },
  "nbformat": 4,
  "nbformat_minor": 5
}