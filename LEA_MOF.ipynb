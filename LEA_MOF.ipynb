{
  "nbformat": 4,
  "nbformat_minor": 0,
  "metadata": {
    "colab": {
      "provenance": [],
      "authorship_tag": "ABX9TyNaXQWAvzl6g+69Tx1FzXpS",
      "include_colab_link": true
    },
    "kernelspec": {
      "name": "python3",
      "display_name": "Python 3"
    },
    "language_info": {
      "name": "python"
    }
  },
  "cells": [
    {
      "cell_type": "markdown",
      "metadata": {
        "id": "view-in-github",
        "colab_type": "text"
      },
      "source": [
        "<a href=\"https://colab.research.google.com/github/MehrdadJalali-AI/MOF_Optimization/blob/main/LEA_MOF.ipynb\" target=\"_parent\"><img src=\"https://colab.research.google.com/assets/colab-badge.svg\" alt=\"Open In Colab\"/></a>"
      ]
    },
    {
      "cell_type": "code",
      "execution_count": 2,
      "metadata": {
        "colab": {
          "base_uri": "https://localhost:8080/"
        },
        "id": "ikrHcNG3QNIy",
        "outputId": "c6656e07-285f-4be6-adab-6cb58b17984d"
      },
      "outputs": [
        {
          "output_type": "stream",
          "name": "stdout",
          "text": [
            "Mounted at /content/drive\n",
            "Collecting rdkit\n",
            "  Downloading rdkit-2024.9.5-cp311-cp311-manylinux_2_28_x86_64.whl.metadata (4.0 kB)\n",
            "Requirement already satisfied: numpy in /usr/local/lib/python3.11/dist-packages (from rdkit) (1.26.4)\n",
            "Requirement already satisfied: Pillow in /usr/local/lib/python3.11/dist-packages (from rdkit) (11.1.0)\n",
            "Downloading rdkit-2024.9.5-cp311-cp311-manylinux_2_28_x86_64.whl (34.3 MB)\n",
            "\u001b[2K   \u001b[90m━━━━━━━━━━━━━━━━━━━━━━━━━━━━━━━━━━━━━━━━\u001b[0m \u001b[32m34.3/34.3 MB\u001b[0m \u001b[31m30.5 MB/s\u001b[0m eta \u001b[36m0:00:00\u001b[0m\n",
            "\u001b[?25hInstalling collected packages: rdkit\n",
            "Successfully installed rdkit-2024.9.5\n"
          ]
        }
      ],
      "source": [
        "# Mount drive\n",
        "from google.colab import drive\n",
        "import os\n",
        "\n",
        "drive.mount('/content/drive')\n",
        "# Change working path\n",
        "os.chdir('/content/drive/MyDrive/Research/MOF/GAN-NodeGeneration/')\n",
        "!pip install rdkit"
      ]
    },
    {
      "cell_type": "code",
      "source": [
        "import numpy as np\n",
        "import pandas as pd\n",
        "import random\n",
        "import matplotlib.pyplot as plt\n",
        "from scipy.special import gamma\n",
        "from scipy.optimize import differential_evolution\n",
        "\n",
        "# Load MOF dataset\n",
        "file_path = \"MOF.csv\"\n",
        "df = pd.read_csv(file_path)\n",
        "\n",
        "# Extract relevant columns\n",
        "features = ['void_fraction', 'asa (A^2)', 'pld (A)', 'max_metal_coordination_n', 'n_sbu_point_of_extension']\n",
        "df = df[features]\n",
        "\n",
        "# Normalize data (0 to 1)\n",
        "df = (df - df.min()) / (df.max() - df.min())\n",
        "\n",
        "# Define fitness function\n",
        "def fitness_function(solution):\n",
        "    porosity_score = solution[0] + solution[1] + solution[2]  # Maximize porosity\n",
        "    stability_score = solution[3] + solution[4]  # Maximize stability\n",
        "    return - (porosity_score * 0.6 + stability_score * 0.4)  # Negative for minimization\n",
        "\n",
        "# Lotus Effect Algorithm (LEA) Class\n",
        "class LotusEffectAlgorithm:\n",
        "    def __init__(self, population_size, dimensions, max_iterations, fitness_function):\n",
        "        self.population_size = population_size\n",
        "        self.dimensions = dimensions\n",
        "        self.max_iterations = max_iterations\n",
        "        self.population = np.random.rand(population_size, dimensions)\n",
        "        self.best_solution = None\n",
        "        self.best_fitness = float('inf')\n",
        "        self.fitness_function = fitness_function\n",
        "        self.fitness_history = []\n",
        "\n",
        "    def levy_flight(self):\n",
        "        beta = 1.5\n",
        "        sigma = (gamma(1 + beta) * np.sin(np.pi * beta / 2) /\n",
        "                (gamma((1 + beta) / 2) * beta * 2**((beta - 1) / 2)))**(1 / beta)\n",
        "        u = np.random.normal(0, sigma, size=self.dimensions)\n",
        "        v = np.random.normal(0, 1, size=self.dimensions)\n",
        "        return 0.01 * (u / np.abs(v)**(1 / beta))\n",
        "\n",
        "    def optimize(self):\n",
        "        for iteration in range(self.max_iterations):\n",
        "            for i in range(self.population_size):\n",
        "                self.population[i] += self.levy_flight()\n",
        "                self.population[i] = np.clip(self.population[i], 0, 1)\n",
        "                fitness = self.fitness_function(self.population[i])\n",
        "                if fitness < self.best_fitness:\n",
        "                    self.best_fitness = fitness\n",
        "                    self.best_solution = self.population[i]\n",
        "            self.fitness_history.append(self.best_fitness)\n",
        "        return self.best_solution, self.best_fitness\n",
        "\n",
        "    def plot_convergence(self):\n",
        "        plt.plot(self.fitness_history, label='Best Fitness')\n",
        "        plt.xlabel('Iterations')\n",
        "        plt.ylabel('Fitness')\n",
        "        plt.title('Convergence Curve')\n",
        "        plt.legend()\n",
        "        plt.show()\n",
        "\n",
        "# Run LEA\n",
        "lea = LotusEffectAlgorithm(population_size=30, dimensions=5, max_iterations=100, fitness_function=fitness_function)\n",
        "best_solution, best_fitness = lea.optimize()\n",
        "lea.plot_convergence()\n",
        "\n",
        "# Differential Evolution (DE) for comparison\n",
        "de_result = differential_evolution(fitness_function, bounds=[(0,1)] * 5)\n",
        "de_fitness = de_result.fun\n",
        "\n",
        "# Print results\n",
        "print(\"Best MOF from LEA:\", best_solution, \"Fitness:\", best_fitness)\n",
        "print(\"Best MOF from DE:\", de_result.x, \"Fitness:\", de_fitness)\n"
      ],
      "metadata": {
        "colab": {
          "base_uri": "https://localhost:8080/",
          "height": 507
        },
        "id": "idNbb0JNQW-e",
        "outputId": "f213f202-648b-4f71-ac70-0c56468cdb4b"
      },
      "execution_count": 4,
      "outputs": [
        {
          "output_type": "display_data",
          "data": {
            "text/plain": [
              "<Figure size 640x480 with 1 Axes>"
            ],
            "image/png": "[encoded data removed]"
          },
          "metadata": {}
        },
        {
          "output_type": "stream",
          "name": "stdout",
          "text": [
            "Best MOF from LEA: [0.75697244 0.64940619 0.81300194 0.89529201 0.47349934] Fitness: -2.0678564797230483\n",
            "Best MOF from DE: [1. 1. 1. 1. 1.] Fitness: -2.5999999999999996\n"
          ]
        }
      ]
    }
  ]
}